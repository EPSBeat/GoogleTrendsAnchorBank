{
 "cells": [
  {
   "cell_type": "markdown",
   "metadata": {},
   "source": [
    "## G-TAB example usage"
   ]
  },
  {
   "cell_type": "markdown",
   "metadata": {},
   "source": [
    "When querying Google Trends, it outputs scores as integers in the range [0, 100]. These scores are relative.\n",
    "For example, when we query Facebook (/m/02y1vz) and Twitter (/m/0289n8t), we get the following:"
   ]
  },
  {
   "cell_type": "code",
   "execution_count": 1,
   "metadata": {},
   "outputs": [
    {
     "data": {
      "text/plain": [
       "'D:\\\\IJS\\\\IJS\\\\projects\\\\Ongoing\\\\GoogleTrends_EPFL\\\\g-tab\\\\GoogleTrendsAnchorBank\\\\example'"
      ]
     },
     "execution_count": 1,
     "metadata": {},
     "output_type": "execute_result"
    }
   ],
   "source": [
    "import os\n",
    "os.getcwd()\n"
   ]
  },
  {
   "cell_type": "markdown",
   "metadata": {},
   "source": [
    "![](./imgs/fb_tw.png)\n"
   ]
  },
  {
   "cell_type": "markdown",
   "metadata": {},
   "source": [
    "Continuing the example, if we query Twitter (/m/0289n8t) and eBay (/m/0z90c), we get the following:"
   ]
  },
  {
   "cell_type": "markdown",
   "metadata": {},
   "source": [
    "![](./imgs/tw_eb.png)"
   ]
  },
  {
   "cell_type": "markdown",
   "metadata": {},
   "source": [
    "However, if we want to compare Facebook to eBay there is no available information. In this example we just used three keywords, but Google Trends limits us to five keywords per query, which means that if we want to compare more than five keywords we cannot obtain accurate data.\n",
    "\n",
    "To solve this issue we can use G-TAB! "
   ]
  },
  {
   "cell_type": "markdown",
   "metadata": {},
   "source": [
    "### Using G-TAB"
   ]
  },
  {
   "cell_type": "markdown",
   "metadata": {},
   "source": [
    "#### Getting data for a new keyword with an existing G-TAB"
   ]
  },
  {
   "cell_type": "code",
   "execution_count": 1,
   "metadata": {},
   "outputs": [
    {
     "name": "stdout",
     "output_type": "stream",
     "text": [
      "Requirement already satisfied: gtab in c:\\users\\gorjan popovski\\appdata\\local\\programs\\python\\python38\\lib\\site-packages (0.1)\n"
     ]
    }
   ],
   "source": [
    "!pip install gtab"
   ]
  },
  {
   "cell_type": "code",
   "execution_count": 11,
   "metadata": {},
   "outputs": [],
   "source": [
    "import gtab"
   ]
  },
  {
   "cell_type": "markdown",
   "metadata": {},
   "source": [
    "We need to create a GTAB object with the desired path. This will create and initialize the directory structure of my_path if it does not exist. If it does, it assumes we have already set up that directory for use."
   ]
  },
  {
   "cell_type": "code",
   "execution_count": 34,
   "metadata": {},
   "outputs": [
    {
     "name": "stdout",
     "output_type": "stream",
     "text": [
      "Directory already exists, loading data from it.\n",
      "Using directory example_path\n"
     ]
    }
   ],
   "source": [
    "my_path = \"example_path\"\n",
    "t = gtab.GTAB(dir_path = my_path)"
   ]
  },
  {
   "cell_type": "markdown",
   "metadata": {},
   "source": [
    "There are three default G-TABs included in the package. To list the available G-TABs call:"
   ]
  },
  {
   "cell_type": "code",
   "execution_count": 36,
   "metadata": {},
   "outputs": [
    {
     "name": "stdout",
     "output_type": "stream",
     "text": [
      "Existing GTABs:\n",
      "\tgoogle_anchorbank_geo=IT_timeframe=2019-11-28 2020-07-28.tsv\n",
      "\tgoogle_anchorbank_geo=SE_timeframe=2019-11-28 2020-07-28.tsv\n",
      "\tgoogle_anchorbank_geo=US_timeframe=2019-11-28 2020-07-28.tsv\n",
      "Active anchorbank: None selected.\n",
      "\n"
     ]
    }
   ],
   "source": [
    "t.list_gtabs()"
   ]
  },
  {
   "cell_type": "markdown",
   "metadata": {},
   "source": [
    "To select which G-TAB to use, call:"
   ]
  },
  {
   "cell_type": "code",
   "execution_count": 37,
   "metadata": {},
   "outputs": [
    {
     "name": "stdout",
     "output_type": "stream",
     "text": [
      "Active anchorbank changed to: google_anchorbank_geo=IT_timeframe=2019-11-28 2020-07-28.tsv\n",
      "\n"
     ]
    }
   ],
   "source": [
    "t.set_active_gtab(\"google_anchorbank_geo=IT_timeframe=2019-11-28 2020-07-28.tsv\")"
   ]
  },
  {
   "cell_type": "markdown",
   "metadata": {},
   "source": [
    "Let's see what our G-TAB looks like:"
   ]
  },
  {
   "cell_type": "code",
   "execution_count": 38,
   "metadata": {},
   "outputs": [
    {
     "data": {
      "text/html": [
       "<div>\n",
       "<style scoped>\n",
       "    .dataframe tbody tr th:only-of-type {\n",
       "        vertical-align: middle;\n",
       "    }\n",
       "\n",
       "    .dataframe tbody tr th {\n",
       "        vertical-align: top;\n",
       "    }\n",
       "\n",
       "    .dataframe thead th {\n",
       "        text-align: right;\n",
       "    }\n",
       "</style>\n",
       "<table border=\"1\" class=\"dataframe\">\n",
       "  <thead>\n",
       "    <tr style=\"text-align: right;\">\n",
       "      <th></th>\n",
       "      <th>base</th>\n",
       "      <th>lo</th>\n",
       "      <th>hi</th>\n",
       "    </tr>\n",
       "  </thead>\n",
       "  <tbody>\n",
       "    <tr>\n",
       "      <th>/m/0mgkg</th>\n",
       "      <td>2615.179121</td>\n",
       "      <td>2347.767011</td>\n",
       "      <td>2917.474178</td>\n",
       "    </tr>\n",
       "    <tr>\n",
       "      <th>/m/0glpjll</th>\n",
       "      <td>836.857319</td>\n",
       "      <td>763.024279</td>\n",
       "      <td>919.004366</td>\n",
       "    </tr>\n",
       "    <tr>\n",
       "      <th>/m/019rl6</th>\n",
       "      <td>276.162915</td>\n",
       "      <td>255.613133</td>\n",
       "      <td>298.676419</td>\n",
       "    </tr>\n",
       "    <tr>\n",
       "      <th>/m/010qmszp</th>\n",
       "      <td>93.895391</td>\n",
       "      <td>88.186531</td>\n",
       "      <td>100.056600</td>\n",
       "    </tr>\n",
       "    <tr>\n",
       "      <th>/m/0b2334</th>\n",
       "      <td>32.863387</td>\n",
       "      <td>31.306219</td>\n",
       "      <td>34.519527</td>\n",
       "    </tr>\n",
       "    <tr>\n",
       "      <th>/m/020jl4</th>\n",
       "      <td>15.117158</td>\n",
       "      <td>14.557392</td>\n",
       "      <td>15.706385</td>\n",
       "    </tr>\n",
       "    <tr>\n",
       "      <th>/m/015zfk</th>\n",
       "      <td>6.802721</td>\n",
       "      <td>6.623613</td>\n",
       "      <td>6.989341</td>\n",
       "    </tr>\n",
       "    <tr>\n",
       "      <th>/m/01bp38</th>\n",
       "      <td>2.040816</td>\n",
       "      <td>2.020202</td>\n",
       "      <td>2.061856</td>\n",
       "    </tr>\n",
       "    <tr>\n",
       "      <th>/m/04jm3v</th>\n",
       "      <td>1.000000</td>\n",
       "      <td>1.000000</td>\n",
       "      <td>1.000000</td>\n",
       "    </tr>\n",
       "    <tr>\n",
       "      <th>/m/02zk4n</th>\n",
       "      <td>0.490000</td>\n",
       "      <td>0.485000</td>\n",
       "      <td>0.495000</td>\n",
       "    </tr>\n",
       "  </tbody>\n",
       "</table>\n",
       "</div>"
      ],
      "text/plain": [
       "                    base           lo           hi\n",
       "/m/0mgkg     2615.179121  2347.767011  2917.474178\n",
       "/m/0glpjll    836.857319   763.024279   919.004366\n",
       "/m/019rl6     276.162915   255.613133   298.676419\n",
       "/m/010qmszp    93.895391    88.186531   100.056600\n",
       "/m/0b2334      32.863387    31.306219    34.519527\n",
       "/m/020jl4      15.117158    14.557392    15.706385\n",
       "/m/015zfk       6.802721     6.623613     6.989341\n",
       "/m/01bp38       2.040816     2.020202     2.061856\n",
       "/m/04jm3v       1.000000     1.000000     1.000000\n",
       "/m/02zk4n       0.490000     0.485000     0.495000"
      ]
     },
     "execution_count": 38,
     "metadata": {},
     "output_type": "execute_result"
    }
   ],
   "source": [
    "t.anchor_bank_full"
   ]
  },
  {
   "cell_type": "markdown",
   "metadata": {},
   "source": [
    "We now need to set the desired config options (location, timeframe, etc.):"
   ]
  },
  {
   "cell_type": "code",
   "execution_count": 39,
   "metadata": {},
   "outputs": [],
   "source": [
    "t.set_options(ptrends_config = {\"geo\": \"US\", \"timeframe\": \"2019-11-28 2020-07-28\" })"
   ]
  },
  {
   "cell_type": "markdown",
   "metadata": {},
   "source": [
    "Now we can request a new query and calibrate it using our selected G-TAB!"
   ]
  },
  {
   "cell_type": "code",
   "execution_count": 50,
   "metadata": {},
   "outputs": [
    {
     "name": "stdout",
     "output_type": "stream",
     "text": [
      "Using example_path\\output\\google_anchorbanks\\google_anchorbank_geo=IT_timeframe=2019-11-28 2020-07-28.tsv\n",
      "New query '/m/0z90c'\n",
      "New query calibrated!\n"
     ]
    }
   ],
   "source": [
    "mid = \"/m/0z90c\" # freebase code for eBay\n",
    "nq_res= t.new_query(mid) "
   ]
  },
  {
   "cell_type": "markdown",
   "metadata": {},
   "source": [
    "Let's look at the ratios:"
   ]
  },
  {
   "cell_type": "code",
   "execution_count": 45,
   "metadata": {},
   "outputs": [
    {
     "name": "stdout",
     "output_type": "stream",
     "text": [
      "Ratio: 460.2715252192433\n",
      "Ratio low: 415.8482318906992\n",
      "Ratio high: 510.04742319824214\n"
     ]
    }
   ],
   "source": [
    "print(f'Ratio: {nq_res[mid][\"ratio\"]}')\n",
    "print(f'Ratio low: {nq_res[mid][\"ratio_lo\"]}')\n",
    "print(f'Ratio high: {nq_res[mid][\"ratio_hi\"]}')"
   ]
  },
  {
   "cell_type": "markdown",
   "metadata": {},
   "source": [
    "Let's look at the whole time series over the specified timeframe:"
   ]
  },
  {
   "cell_type": "code",
   "execution_count": 46,
   "metadata": {},
   "outputs": [
    {
     "name": "stdout",
     "output_type": "stream",
     "text": [
      "Time series: [343.1115006179814, 401.6915129186123, 418.42865929022116, 393.32293973280787, 384.9543665470035, 368.2172201753947, 351.4800738037858, 343.1115006179814, 343.1115006179814, 376.5857933611991, 368.2172201753947, 351.4800738037858, 351.4800738037858, 359.84864698959024, 343.1115006179814, 343.1115006179814, 384.9543665470035, 384.9543665470035, 351.4800738037858, 343.1115006179814, 334.74292743217694, 326.37435424637255, 318.0057810605681, 351.4800738037858, 343.1115006179814, 318.0057810605681, 301.26863468895925, 334.74292743217694, 368.2172201753947, 351.4800738037858, 368.2172201753947, 359.84864698959024, 334.74292743217694, 334.74292743217694, 318.0057810605681, 334.74292743217694, 343.1115006179814, 351.4800738037858, 359.84864698959024, 334.74292743217694, 326.37435424637255, 318.0057810605681, 326.37435424637255, 309.6372078747637, 351.4800738037858, 343.1115006179814, 318.0057810605681, 318.0057810605681, 309.6372078747637, 309.6372078747637, 318.0057810605681, 359.84864698959024, 343.1115006179814, 351.4800738037858, 318.0057810605681, 318.0057810605681, 318.0057810605681, 309.6372078747637, 351.4800738037858, 334.74292743217694, 318.0057810605681, 326.37435424637255, 326.37435424637255, 318.0057810605681, 318.0057810605681, 351.4800738037858, 343.1115006179814, 301.26863468895925, 326.37435424637255, 309.6372078747637, 318.0057810605681, 326.37435424637255, 351.4800738037858, 376.5857933611991, 318.0057810605681, 318.0057810605681, 318.0057810605681, 318.0057810605681, 301.26863468895925, 334.74292743217694, 351.4800738037858, 334.74292743217694, 318.0057810605681, 326.37435424637255, 318.0057810605681, 326.37435424637255, 343.1115006179814, 359.84864698959024, 326.37435424637255, 326.37435424637255, 326.37435424637255, 334.74292743217694, 343.1115006179814, 359.84864698959024, 376.5857933611991, 343.1115006179814, 318.0057810605681, 326.37435424637255, 318.0057810605681, 326.37435424637255, 368.2172201753947, 359.84864698959024, 326.37435424637255, 326.37435424637255, 309.6372078747637, 284.5314883173504, 292.9000615031548, 359.84864698959024, 359.84864698959024, 292.9000615031548, 284.5314883173504, 292.9000615031548, 292.9000615031548, 284.5314883173504, 334.74292743217694, 351.4800738037858, 318.0057810605681, 326.37435424637255, 318.0057810605681, 318.0057810605681, 318.0057810605681, 376.5857933611991, 376.5857933611991, 334.74292743217694, 351.4800738037858, 334.74292743217694, 343.1115006179814, 368.2172201753947, 401.6915129186123, 401.6915129186123, 359.84864698959024, 376.5857933611991, 368.2172201753947, 376.5857933611991, 393.32293973280787, 410.06008610441677, 410.06008610441677, 384.9543665470035, 384.9543665470035, 401.6915129186123, 410.06008610441677, 401.6915129186123, 460.2715252192433, 443.53437884763446, 401.6915129186123, 401.6915129186123, 401.6915129186123, 401.6915129186123, 384.9543665470035, 418.42865929022116, 426.7972324760256, 401.6915129186123, 410.06008610441677, 410.06008610441677, 410.06008610441677, 393.32293973280787, 426.7972324760256, 443.53437884763446, 401.6915129186123, 401.6915129186123, 393.32293973280787, 393.32293973280787, 384.9543665470035, 410.06008610441677, 410.06008610441677, 393.32293973280787, 393.32293973280787, 393.32293973280787, 384.9543665470035, 384.9543665470035, 418.42865929022116, 435.16580566183, 393.32293973280787, 401.6915129186123, 376.5857933611991, 384.9543665470035, 376.5857933611991, 401.6915129186123, 401.6915129186123, 393.32293973280787, 384.9543665470035, 368.2172201753947, 368.2172201753947, 351.4800738037858, 368.2172201753947, 359.84864698959024, 343.1115006179814, 359.84864698959024, 359.84864698959024, 351.4800738037858, 359.84864698959024, 376.5857933611991, 384.9543665470035, 368.2172201753947, 376.5857933611991, 359.84864698959024, 351.4800738037858, 359.84864698959024, 376.5857933611991, 376.5857933611991, 368.2172201753947, 368.2172201753947, 359.84864698959024, 351.4800738037858, 351.4800738037858, 368.2172201753947, 359.84864698959024, 359.84864698959024, 359.84864698959024, 343.1115006179814, 343.1115006179814, 351.4800738037858, 384.9543665470035, 384.9543665470035, 368.2172201753947, 359.84864698959024, 359.84864698959024, 351.4800738037858, 359.84864698959024, 359.84864698959024, 376.5857933611991, 359.84864698959024, 359.84864698959024, 351.4800738037858, 351.4800738037858, 351.4800738037858, 376.5857933611991, 368.2172201753947, 351.4800738037858, 351.4800738037858, 359.84864698959024, 351.4800738037858, 351.4800738037858, 376.5857933611991, 384.9543665470035, 359.84864698959024, 351.4800738037858, 351.4800738037858, 343.1115006179814, 343.1115006179814, 368.2172201753947, 368.2172201753947, 359.84864698959024, 368.2172201753947]\n"
     ]
    }
   ],
   "source": [
    "print(f'Time series: {nq_res[mid][\"ts\"]}')"
   ]
  },
  {
   "cell_type": "markdown",
   "metadata": {},
   "source": [
    "#### Creating your own G-TAB"
   ]
  },
  {
   "cell_type": "code",
   "execution_count": 51,
   "metadata": {},
   "outputs": [
    {
     "name": "stdout",
     "output_type": "stream",
     "text": [
      "Directory already exists, loading data from it.\n",
      "Using directory example_path\n"
     ]
    }
   ],
   "source": [
    "my_path = \"example_path\"\n",
    "t = gtab.GTAB(dir_path = my_path)"
   ]
  },
  {
   "cell_type": "markdown",
   "metadata": {},
   "source": [
    "For example, if we want to construct a G-TAB with data from Germany between March 5th 2020 and May 5th 2020, we set:\n"
   ]
  },
  {
   "cell_type": "code",
   "execution_count": 52,
   "metadata": {},
   "outputs": [],
   "source": [
    "t.set_options(ptrends_config = {\"geo\": \"DE\", \"timeframe\": \"2020-03-05 2020-05-05\"})"
   ]
  },
  {
   "cell_type": "markdown",
   "metadata": {},
   "source": [
    "We also need to specify which file to use for sampling the keywords (if we're not using the default). This file needs to be located at my_path/data/my_data_file.txt and contains one keyword per line."
   ]
  },
  {
   "cell_type": "code",
   "execution_count": 53,
   "metadata": {},
   "outputs": [],
   "source": [
    "t.set_options(gtab_config = {\"anchor_candidates_file\": \"my_data_file.txt\"})"
   ]
  },
  {
   "cell_type": "markdown",
   "metadata": {},
   "source": [
    "We then need to set N and K, as described in the paper. For example, if we want to set N=3000 and K=500, we call:"
   ]
  },
  {
   "cell_type": "code",
   "execution_count": 54,
   "metadata": {},
   "outputs": [],
   "source": [
    "t.set_options(gtab_config = {\"num_anchor_candidates\": 3000, \"num_anchors\": 500})"
   ]
  },
  {
   "cell_type": "markdown",
   "metadata": {},
   "source": [
    "All of the config options can be directly edited in the config file found at my_path/config/config.json."
   ]
  },
  {
   "cell_type": "markdown",
   "metadata": {},
   "source": [
    "Finally, we construct the G-TAB:"
   ]
  },
  {
   "cell_type": "code",
   "execution_count": 57,
   "metadata": {},
   "outputs": [
    {
     "name": "stdout",
     "output_type": "stream",
     "text": [
      "\n"
     ]
    }
   ],
   "source": [
    "t.create_anchorbank() # takes a while to run since it queries Google Trends."
   ]
  },
  {
   "cell_type": "markdown",
   "metadata": {},
   "source": [
    "This will start querying Google Trends and calibrate the data and will take some time, depending on K. After it is constructed it can be listed and selected as described in the previous example."
   ]
  }
 ],
 "metadata": {
  "kernelspec": {
   "display_name": "Python 3.8.1 64-bit",
   "language": "python",
   "name": "python38164bit53f5734c76fa437c8ffeb2955c8b9904"
  },
  "language_info": {
   "codemirror_mode": {
    "name": "ipython",
    "version": 3
   },
   "file_extension": ".py",
   "mimetype": "text/x-python",
   "name": "python",
   "nbconvert_exporter": "python",
   "pygments_lexer": "ipython3",
   "version": "3.8.1"
  }
 },
 "nbformat": 4,
 "nbformat_minor": 2
}
